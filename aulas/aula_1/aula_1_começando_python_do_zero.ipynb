{
 "cells": [
  {
   "cell_type": "markdown",
   "id": "d404507d",
   "metadata": {},
   "source": [
    "---\n",
    "---\n",
    "# Aula 1: começando com python do zero\n",
    "---\n",
    "---"
   ]
  },
  {
   "cell_type": "markdown",
   "id": "259553b2-4dd5-45c4-8dc4-f2fe7bfef66c",
   "metadata": {},
   "source": [
    "## 1. O problema de negócio\n",
    "---"
   ]
  },
  {
   "cell_type": "markdown",
   "id": "7fdd5c61-7673-47b9-9f01-c8ce94cb6cf9",
   "metadata": {},
   "source": [
    "### O que a empresa faz"
   ]
  },
  {
   "cell_type": "markdown",
   "id": "2a099b92-4b9a-4a6f-971c-de533e6bfd83",
   "metadata": {},
   "source": [
    "A empresa House Rocket possui uma plataforma de compra e venda de imóveis."
   ]
  },
  {
   "cell_type": "markdown",
   "id": "50196c75-e3eb-4318-a4d4-d88d21664063",
   "metadata": {},
   "source": [
    "### Problema"
   ]
  },
  {
   "cell_type": "markdown",
   "id": "88cd215e-d494-40d7-a2e2-6dce75a4a39e",
   "metadata": {},
   "source": [
    "O CEO da empresa gostaria de maximizar o lucro da empresa encontrando bons negócios."
   ]
  },
  {
   "cell_type": "markdown",
   "id": "50a07e5f-e83e-413e-b268-56189ff69f18",
   "metadata": {},
   "source": [
    "### Principal estratégia"
   ]
  },
  {
   "cell_type": "markdown",
   "id": "3184009e-aaa2-4ad6-8db0-0ec364ae2420",
   "metadata": {},
   "source": [
    "Retirar de fontes externas para encontrar bons negócios."
   ]
  },
  {
   "cell_type": "markdown",
   "id": "9f8734cd-6262-4946-be78-eec97509560d",
   "metadata": {},
   "source": [
    "### Primeiras perguntas do CEO"
   ]
  },
  {
   "cell_type": "markdown",
   "id": "c7f42838-d584-47f4-80a0-78bce9a05af2",
   "metadata": {},
   "source": [
    "1. Quantas casas estão disponíveis para compra?\n",
    "2. Quantos atributos as casas possuem?\n",
    "3. Quais são os atributos das casas?\n",
    "4. Qual a casa mais cara ( casa com o maior valor de venda )?\n",
    "5. Qual a casa com o maior número de quartos?\n",
    "6. Qual a soma total de quartos do conjunto de dados?\n",
    "7. Quantas casas possuem 2 banheiros?\n",
    "8. Qual o preço médio de todas as casas no conjunto de dados?\n",
    "9. Qual o preço médio de casas com 2 banheiros?\n",
    "10. Qual o preço mínimo entre as casas com 3 quartos?\n",
    "11. Quantas casas possuem mais de 300 metros quadrados na sala de estar?\n",
    "12. Quantas casas tem mais de 2 andares?\n",
    "13. Quantas casas tem vista para o mar?\n",
    "14. Das casas com vista para o mar, quantas tem 3 quartos?\n",
    "15. Das casas com mais de 300 metros quadrados de sala de estar, quantas tem mais de 2 banheiros?"
   ]
  },
  {
   "cell_type": "markdown",
   "id": "2196ea1d-5881-4031-a165-cffed132f3af",
   "metadata": {},
   "source": [
    "## 2. Planejando a solução\n",
    "---"
   ]
  },
  {
   "cell_type": "markdown",
   "id": "c9222440-f6c4-488d-9fcd-7825ebc9f389",
   "metadata": {},
   "source": [
    "### Produto final"
   ]
  },
  {
   "cell_type": "markdown",
   "id": "95f4693d-9ccf-4eed-a70a-c2bbab5a92a9",
   "metadata": {},
   "source": [
    "Texto com as respostas, denotando por \"Pergunta | Resposta\"."
   ]
  },
  {
   "cell_type": "markdown",
   "id": "85b85835-01dc-49bc-8d8f-907ae4b1c6c4",
   "metadata": {},
   "source": [
    "### Procedimento para a resolução"
   ]
  },
  {
   "cell_type": "markdown",
   "id": "8ac3c250-bd31-4da2-9d60-44483a9b29ca",
   "metadata": {},
   "source": [
    "#### 1. Onde está a informação?"
   ]
  },
  {
   "cell_type": "markdown",
   "id": "6d4fb5fd-4ab1-4b20-9c49-d15ac9789847",
   "metadata": {},
   "source": [
    "No Kaggle, seguido por [este](https://www.kaggle.com/harlfoxem/housesalesprediction) link."
   ]
  },
  {
   "cell_type": "markdown",
   "id": "b5e51491-ac73-47c0-8370-12614a223306",
   "metadata": {},
   "source": [
    "#### 2. Como coletar os dados?"
   ]
  },
  {
   "cell_type": "markdown",
   "id": "b6ad6c00-e36c-45a7-84e8-9e68d784c557",
   "metadata": {},
   "source": [
    "Download do site."
   ]
  },
  {
   "cell_type": "markdown",
   "id": "a7c94a3b-3709-4c2f-b349-5e943eb73eb3",
   "metadata": {},
   "source": [
    "#### 3. Como responder as perguntas?"
   ]
  },
  {
   "cell_type": "markdown",
   "id": "39ae5d35-221d-4d83-b331-90b454605179",
   "metadata": {},
   "source": [
    "**1. Quantas casas estão disponíveis para compra?**\n",
    "\n",
    "**R:** Contar o numero de linhas do conjunto de dados.\n",
    "\n",
    "**2. Quantos atributos as casa possuem? ( numero de quartos, garagens, m2, vista pro mar )**\n",
    "\n",
    "**R:** Contar o numero de colunas do conjunto de dados.\n",
    "\n",
    "**3. Quais são os atributos?**\n",
    "\n",
    "**R:** Mostrar o nome das colunas ( automatica ).\n",
    "\n",
    "**4. Qual a casa mais cara do portfólio ( casa com maior valor )?**\n",
    "\n",
    "**R:** Ordenar as linhas pela coluna de preco ( atributos ).\n",
    "\n",
    "**5. Qual a casa com o maior número de quartos?**\n",
    "\n",
    "**R:** Contar o numero de linhas pela coluna numero de quartos ( atributo ).\n",
    "\n",
    "**6. Qual a soma total de quartos do conjunto de dados?**\n",
    "\n",
    "**R:** Somar todos os valores na coluna numero de quartos.\n",
    "\n",
    "**7. Quantas casas possuem 2 banheiros?**\n",
    "\n",
    "**R:** Fazer um slice das casas que possuem apenas 2 banheiros e depois contar quantas linhas tem este novo conjunto de dados.\n",
    "\n",
    "**8. Qual o preço médio de todas as casas no conjunto de dados?**\n",
    "\n",
    "**R:** Fazer a média da coluna de preços.\n",
    "\n",
    "**9. Qual o preço médio de casas com 2 banheiros?**\n",
    "\n",
    "**R:** Pegar o mesmo dataframe da pergunta 7 e fazer a média da coluna de preços.\n",
    "\n",
    "**10. Qual o preço mínimo entre as casas com 3 quartos?**\n",
    "\n",
    "**R:** Fazer um slice das casas com 3 quartos e tirar a média da coluna de preços.\n",
    "\n",
    "**11. Quantas casas possuem mais de 300 metros quadrados na sala de estar?**\n",
    "\n",
    "**R:** Fazer um slice das casas que possuem mais de 300 metros quadrados na sala de estar e contar o total de linhas depois.\n",
    "\n",
    "**12. Quantas casas tem mais de 2 andares?**\n",
    "\n",
    "**R:** Fazer um slice das casas que possuem mais de 2 andares e contar o total de linhas.\n",
    "\n",
    "**13. Quantas casas tem vista para o mar?**\n",
    "\n",
    "**R:** Fazer um slice das casas que tem vista para o mar e contar o total de linhas.\n",
    "\n",
    "**14. Das casas com vista para o mar, quantas tem 3 quartos?**\n",
    "\n",
    "**R:** Pegar o dataframe criado na pergunta anterior, fazer um slice das que apresentam 3 quartos e contar o total de linhas.\n",
    "\n",
    "**15. Das casas com mais de 300 metros quadrados de sala de estar, quantas tem mais de 2 banheiros?**\n",
    "\n",
    "**R:** Pegar o dataframe criado na pergunta 11, fazer um slice das que possuem mais de 2 banheiros e contar o total de linhas.\n"
   ]
  },
  {
   "cell_type": "markdown",
   "id": "0a0dfac0-fad2-4b1a-8960-807cf1839a2d",
   "metadata": {},
   "source": [
    "## Importing files\n",
    "---"
   ]
  },
  {
   "cell_type": "code",
   "execution_count": 26,
   "id": "30f2a06f",
   "metadata": {},
   "outputs": [],
   "source": [
    "# Importando as bibliotecas\n",
    "import pandas as pd"
   ]
  },
  {
   "cell_type": "code",
   "execution_count": 8,
   "id": "cfdfd9b5",
   "metadata": {},
   "outputs": [
    {
     "data": {
      "text/html": [
       "<div>\n",
       "<style scoped>\n",
       "    .dataframe tbody tr th:only-of-type {\n",
       "        vertical-align: middle;\n",
       "    }\n",
       "\n",
       "    .dataframe tbody tr th {\n",
       "        vertical-align: top;\n",
       "    }\n",
       "\n",
       "    .dataframe thead th {\n",
       "        text-align: right;\n",
       "    }\n",
       "</style>\n",
       "<table border=\"1\" class=\"dataframe\">\n",
       "  <thead>\n",
       "    <tr style=\"text-align: right;\">\n",
       "      <th></th>\n",
       "      <th>id</th>\n",
       "      <th>date</th>\n",
       "      <th>price</th>\n",
       "      <th>bedrooms</th>\n",
       "      <th>bathrooms</th>\n",
       "      <th>sqft_living</th>\n",
       "      <th>sqft_lot</th>\n",
       "      <th>floors</th>\n",
       "      <th>waterfront</th>\n",
       "      <th>view</th>\n",
       "      <th>...</th>\n",
       "      <th>grade</th>\n",
       "      <th>sqft_above</th>\n",
       "      <th>sqft_basement</th>\n",
       "      <th>yr_built</th>\n",
       "      <th>yr_renovated</th>\n",
       "      <th>zipcode</th>\n",
       "      <th>lat</th>\n",
       "      <th>long</th>\n",
       "      <th>sqft_living15</th>\n",
       "      <th>sqft_lot15</th>\n",
       "    </tr>\n",
       "  </thead>\n",
       "  <tbody>\n",
       "    <tr>\n",
       "      <th>0</th>\n",
       "      <td>7129300520</td>\n",
       "      <td>20141013T000000</td>\n",
       "      <td>221900.0</td>\n",
       "      <td>3</td>\n",
       "      <td>1.00</td>\n",
       "      <td>1180</td>\n",
       "      <td>5650</td>\n",
       "      <td>1.0</td>\n",
       "      <td>0</td>\n",
       "      <td>0</td>\n",
       "      <td>...</td>\n",
       "      <td>7</td>\n",
       "      <td>1180</td>\n",
       "      <td>0</td>\n",
       "      <td>1955</td>\n",
       "      <td>0</td>\n",
       "      <td>98178</td>\n",
       "      <td>47.5112</td>\n",
       "      <td>-122.257</td>\n",
       "      <td>1340</td>\n",
       "      <td>5650</td>\n",
       "    </tr>\n",
       "    <tr>\n",
       "      <th>1</th>\n",
       "      <td>6414100192</td>\n",
       "      <td>20141209T000000</td>\n",
       "      <td>538000.0</td>\n",
       "      <td>3</td>\n",
       "      <td>2.25</td>\n",
       "      <td>2570</td>\n",
       "      <td>7242</td>\n",
       "      <td>2.0</td>\n",
       "      <td>0</td>\n",
       "      <td>0</td>\n",
       "      <td>...</td>\n",
       "      <td>7</td>\n",
       "      <td>2170</td>\n",
       "      <td>400</td>\n",
       "      <td>1951</td>\n",
       "      <td>1991</td>\n",
       "      <td>98125</td>\n",
       "      <td>47.7210</td>\n",
       "      <td>-122.319</td>\n",
       "      <td>1690</td>\n",
       "      <td>7639</td>\n",
       "    </tr>\n",
       "    <tr>\n",
       "      <th>2</th>\n",
       "      <td>5631500400</td>\n",
       "      <td>20150225T000000</td>\n",
       "      <td>180000.0</td>\n",
       "      <td>2</td>\n",
       "      <td>1.00</td>\n",
       "      <td>770</td>\n",
       "      <td>10000</td>\n",
       "      <td>1.0</td>\n",
       "      <td>0</td>\n",
       "      <td>0</td>\n",
       "      <td>...</td>\n",
       "      <td>6</td>\n",
       "      <td>770</td>\n",
       "      <td>0</td>\n",
       "      <td>1933</td>\n",
       "      <td>0</td>\n",
       "      <td>98028</td>\n",
       "      <td>47.7379</td>\n",
       "      <td>-122.233</td>\n",
       "      <td>2720</td>\n",
       "      <td>8062</td>\n",
       "    </tr>\n",
       "    <tr>\n",
       "      <th>3</th>\n",
       "      <td>2487200875</td>\n",
       "      <td>20141209T000000</td>\n",
       "      <td>604000.0</td>\n",
       "      <td>4</td>\n",
       "      <td>3.00</td>\n",
       "      <td>1960</td>\n",
       "      <td>5000</td>\n",
       "      <td>1.0</td>\n",
       "      <td>0</td>\n",
       "      <td>0</td>\n",
       "      <td>...</td>\n",
       "      <td>7</td>\n",
       "      <td>1050</td>\n",
       "      <td>910</td>\n",
       "      <td>1965</td>\n",
       "      <td>0</td>\n",
       "      <td>98136</td>\n",
       "      <td>47.5208</td>\n",
       "      <td>-122.393</td>\n",
       "      <td>1360</td>\n",
       "      <td>5000</td>\n",
       "    </tr>\n",
       "    <tr>\n",
       "      <th>4</th>\n",
       "      <td>1954400510</td>\n",
       "      <td>20150218T000000</td>\n",
       "      <td>510000.0</td>\n",
       "      <td>3</td>\n",
       "      <td>2.00</td>\n",
       "      <td>1680</td>\n",
       "      <td>8080</td>\n",
       "      <td>1.0</td>\n",
       "      <td>0</td>\n",
       "      <td>0</td>\n",
       "      <td>...</td>\n",
       "      <td>8</td>\n",
       "      <td>1680</td>\n",
       "      <td>0</td>\n",
       "      <td>1987</td>\n",
       "      <td>0</td>\n",
       "      <td>98074</td>\n",
       "      <td>47.6168</td>\n",
       "      <td>-122.045</td>\n",
       "      <td>1800</td>\n",
       "      <td>7503</td>\n",
       "    </tr>\n",
       "  </tbody>\n",
       "</table>\n",
       "<p>5 rows × 21 columns</p>\n",
       "</div>"
      ],
      "text/plain": [
       "           id             date     price  bedrooms  bathrooms  sqft_living  \\\n",
       "0  7129300520  20141013T000000  221900.0         3       1.00         1180   \n",
       "1  6414100192  20141209T000000  538000.0         3       2.25         2570   \n",
       "2  5631500400  20150225T000000  180000.0         2       1.00          770   \n",
       "3  2487200875  20141209T000000  604000.0         4       3.00         1960   \n",
       "4  1954400510  20150218T000000  510000.0         3       2.00         1680   \n",
       "\n",
       "   sqft_lot  floors  waterfront  view  ...  grade  sqft_above  sqft_basement  \\\n",
       "0      5650     1.0           0     0  ...      7        1180              0   \n",
       "1      7242     2.0           0     0  ...      7        2170            400   \n",
       "2     10000     1.0           0     0  ...      6         770              0   \n",
       "3      5000     1.0           0     0  ...      7        1050            910   \n",
       "4      8080     1.0           0     0  ...      8        1680              0   \n",
       "\n",
       "   yr_built  yr_renovated  zipcode      lat     long  sqft_living15  \\\n",
       "0      1955             0    98178  47.5112 -122.257           1340   \n",
       "1      1951          1991    98125  47.7210 -122.319           1690   \n",
       "2      1933             0    98028  47.7379 -122.233           2720   \n",
       "3      1965             0    98136  47.5208 -122.393           1360   \n",
       "4      1987             0    98074  47.6168 -122.045           1800   \n",
       "\n",
       "   sqft_lot15  \n",
       "0        5650  \n",
       "1        7639  \n",
       "2        8062  \n",
       "3        5000  \n",
       "4        7503  \n",
       "\n",
       "[5 rows x 21 columns]"
      ]
     },
     "execution_count": 8,
     "metadata": {},
     "output_type": "execute_result"
    }
   ],
   "source": [
    "# Importando os dados\n",
    "path = 'C:/Users/Emerson/Documents/Jupyter Projects/pthon_do_zero_ao_ds/datasets/kc_house_data.csv'\n",
    "df = pd.read_csv(path)\n",
    "df.head()"
   ]
  },
  {
   "cell_type": "markdown",
   "id": "3e9210b2",
   "metadata": {},
   "source": [
    "## Respondendo as perguntas de Negócio\n",
    "---"
   ]
  },
  {
   "cell_type": "markdown",
   "id": "499ecc52",
   "metadata": {},
   "source": [
    "### 1. Quantas casas estão disponíveis para compra?"
   ]
  },
  {
   "cell_type": "code",
   "execution_count": 9,
   "id": "f378e874",
   "metadata": {},
   "outputs": [
    {
     "name": "stdout",
     "output_type": "stream",
     "text": [
      "Existem 21436 casas.\n"
     ]
    }
   ],
   "source": [
    "print(f\"Existem {len(df['id'].unique())} casas.\")"
   ]
  },
  {
   "cell_type": "markdown",
   "id": "43016cb4",
   "metadata": {},
   "source": [
    "Será que o tamanho do nosso *dataframe* bate com o número de `id`'a únicos? Vamos confirmar isso."
   ]
  },
  {
   "cell_type": "code",
   "execution_count": 10,
   "id": "6ddbbcf5",
   "metadata": {},
   "outputs": [
    {
     "name": "stdout",
     "output_type": "stream",
     "text": [
      "O nosso dataframe possui 21613 linhas.\n",
      "Existem portanto, 177 casas repetidas em nosso dataframe!\n"
     ]
    }
   ],
   "source": [
    "print(f\"O nosso dataframe possui {df.shape[0]} linhas.\")\n",
    "print(f\"Existem portanto, {df.shape[0] - len(df['id'].unique())} casas repetidas em nosso dataframe!\")"
   ]
  },
  {
   "cell_type": "markdown",
   "id": "fe167460",
   "metadata": {},
   "source": [
    "Muito provavelmente são as mesmas casas, porém devem ter sofrido alterações nos preços por conta de alguma variável, como por exemplo, a data que ficaram a venda."
   ]
  },
  {
   "cell_type": "markdown",
   "id": "6fcbcb75",
   "metadata": {},
   "source": [
    "### 2. Quantos atributos as casas possuem?"
   ]
  },
  {
   "cell_type": "code",
   "execution_count": 11,
   "id": "bb3d54b6",
   "metadata": {},
   "outputs": [
    {
     "name": "stdout",
     "output_type": "stream",
     "text": [
      "Existem 19 atributos.\n"
     ]
    }
   ],
   "source": [
    "# id e date não são atributos das casas, e sim do sistema de cadastros\n",
    "print(f\"Existem {df.shape[1] - 2} atributos.\")"
   ]
  },
  {
   "cell_type": "markdown",
   "id": "dd18fb61",
   "metadata": {},
   "source": [
    "### 3. Quais são os atributos das casas?"
   ]
  },
  {
   "cell_type": "code",
   "execution_count": 12,
   "id": "37dd65eb",
   "metadata": {},
   "outputs": [
    {
     "name": "stdout",
     "output_type": "stream",
     "text": [
      "Os atributos das casas são:\n",
      "['price', 'bedrooms', 'bathrooms', 'sqft_living', 'sqft_lot', 'floors', 'waterfront', 'view', 'condition', 'grade', 'sqft_above', 'sqft_basement', 'yr_built', 'yr_renovated', 'zipcode', 'lat', 'long', 'sqft_living15', 'sqft_lot15']\n"
     ]
    }
   ],
   "source": [
    "print(\"Os atributos das casas são:\")\n",
    "print(list(df.columns.drop(['id', 'date'])))"
   ]
  },
  {
   "cell_type": "markdown",
   "id": "c6b3dc27",
   "metadata": {},
   "source": [
    "### 4. Qual a casa mais cara ( casa com o maior valor de venda )?"
   ]
  },
  {
   "cell_type": "code",
   "execution_count": 13,
   "id": "753402f7",
   "metadata": {},
   "outputs": [
    {
     "data": {
      "text/html": [
       "<div>\n",
       "<style scoped>\n",
       "    .dataframe tbody tr th:only-of-type {\n",
       "        vertical-align: middle;\n",
       "    }\n",
       "\n",
       "    .dataframe tbody tr th {\n",
       "        vertical-align: top;\n",
       "    }\n",
       "\n",
       "    .dataframe thead th {\n",
       "        text-align: right;\n",
       "    }\n",
       "</style>\n",
       "<table border=\"1\" class=\"dataframe\">\n",
       "  <thead>\n",
       "    <tr style=\"text-align: right;\">\n",
       "      <th></th>\n",
       "      <th>id</th>\n",
       "      <th>date</th>\n",
       "      <th>price</th>\n",
       "      <th>bedrooms</th>\n",
       "      <th>bathrooms</th>\n",
       "      <th>sqft_living</th>\n",
       "      <th>sqft_lot</th>\n",
       "      <th>floors</th>\n",
       "      <th>waterfront</th>\n",
       "      <th>view</th>\n",
       "      <th>...</th>\n",
       "      <th>grade</th>\n",
       "      <th>sqft_above</th>\n",
       "      <th>sqft_basement</th>\n",
       "      <th>yr_built</th>\n",
       "      <th>yr_renovated</th>\n",
       "      <th>zipcode</th>\n",
       "      <th>lat</th>\n",
       "      <th>long</th>\n",
       "      <th>sqft_living15</th>\n",
       "      <th>sqft_lot15</th>\n",
       "    </tr>\n",
       "  </thead>\n",
       "  <tbody>\n",
       "    <tr>\n",
       "      <th>7252</th>\n",
       "      <td>6762700020</td>\n",
       "      <td>20141013T000000</td>\n",
       "      <td>7700000.0</td>\n",
       "      <td>6</td>\n",
       "      <td>8.0</td>\n",
       "      <td>12050</td>\n",
       "      <td>27600</td>\n",
       "      <td>2.5</td>\n",
       "      <td>0</td>\n",
       "      <td>3</td>\n",
       "      <td>...</td>\n",
       "      <td>13</td>\n",
       "      <td>8570</td>\n",
       "      <td>3480</td>\n",
       "      <td>1910</td>\n",
       "      <td>1987</td>\n",
       "      <td>98102</td>\n",
       "      <td>47.6298</td>\n",
       "      <td>-122.323</td>\n",
       "      <td>3940</td>\n",
       "      <td>8800</td>\n",
       "    </tr>\n",
       "  </tbody>\n",
       "</table>\n",
       "<p>1 rows × 21 columns</p>\n",
       "</div>"
      ],
      "text/plain": [
       "              id             date      price  bedrooms  bathrooms  \\\n",
       "7252  6762700020  20141013T000000  7700000.0         6        8.0   \n",
       "\n",
       "      sqft_living  sqft_lot  floors  waterfront  view  ...  grade  sqft_above  \\\n",
       "7252        12050     27600     2.5           0     3  ...     13        8570   \n",
       "\n",
       "      sqft_basement  yr_built  yr_renovated  zipcode      lat     long  \\\n",
       "7252           3480      1910          1987    98102  47.6298 -122.323   \n",
       "\n",
       "      sqft_living15  sqft_lot15  \n",
       "7252           3940        8800  \n",
       "\n",
       "[1 rows x 21 columns]"
      ]
     },
     "metadata": {},
     "output_type": "display_data"
    }
   ],
   "source": [
    "display(df.sort_values('price', ascending=False).head(1))"
   ]
  },
  {
   "cell_type": "markdown",
   "id": "2f184512",
   "metadata": {},
   "source": [
    "### 5. Qual a casa com o maior número de quartos?"
   ]
  },
  {
   "cell_type": "code",
   "execution_count": 14,
   "id": "3af1447b",
   "metadata": {},
   "outputs": [
    {
     "data": {
      "text/html": [
       "<div>\n",
       "<style scoped>\n",
       "    .dataframe tbody tr th:only-of-type {\n",
       "        vertical-align: middle;\n",
       "    }\n",
       "\n",
       "    .dataframe tbody tr th {\n",
       "        vertical-align: top;\n",
       "    }\n",
       "\n",
       "    .dataframe thead th {\n",
       "        text-align: right;\n",
       "    }\n",
       "</style>\n",
       "<table border=\"1\" class=\"dataframe\">\n",
       "  <thead>\n",
       "    <tr style=\"text-align: right;\">\n",
       "      <th></th>\n",
       "      <th>id</th>\n",
       "      <th>date</th>\n",
       "      <th>price</th>\n",
       "      <th>bedrooms</th>\n",
       "      <th>bathrooms</th>\n",
       "      <th>sqft_living</th>\n",
       "      <th>sqft_lot</th>\n",
       "      <th>floors</th>\n",
       "      <th>waterfront</th>\n",
       "      <th>view</th>\n",
       "      <th>...</th>\n",
       "      <th>grade</th>\n",
       "      <th>sqft_above</th>\n",
       "      <th>sqft_basement</th>\n",
       "      <th>yr_built</th>\n",
       "      <th>yr_renovated</th>\n",
       "      <th>zipcode</th>\n",
       "      <th>lat</th>\n",
       "      <th>long</th>\n",
       "      <th>sqft_living15</th>\n",
       "      <th>sqft_lot15</th>\n",
       "    </tr>\n",
       "  </thead>\n",
       "  <tbody>\n",
       "    <tr>\n",
       "      <th>15870</th>\n",
       "      <td>2402100895</td>\n",
       "      <td>20140625T000000</td>\n",
       "      <td>640000.0</td>\n",
       "      <td>33</td>\n",
       "      <td>1.75</td>\n",
       "      <td>1620</td>\n",
       "      <td>6000</td>\n",
       "      <td>1.0</td>\n",
       "      <td>0</td>\n",
       "      <td>0</td>\n",
       "      <td>...</td>\n",
       "      <td>7</td>\n",
       "      <td>1040</td>\n",
       "      <td>580</td>\n",
       "      <td>1947</td>\n",
       "      <td>0</td>\n",
       "      <td>98103</td>\n",
       "      <td>47.6878</td>\n",
       "      <td>-122.331</td>\n",
       "      <td>1330</td>\n",
       "      <td>4700</td>\n",
       "    </tr>\n",
       "  </tbody>\n",
       "</table>\n",
       "<p>1 rows × 21 columns</p>\n",
       "</div>"
      ],
      "text/plain": [
       "               id             date     price  bedrooms  bathrooms  \\\n",
       "15870  2402100895  20140625T000000  640000.0        33       1.75   \n",
       "\n",
       "       sqft_living  sqft_lot  floors  waterfront  view  ...  grade  \\\n",
       "15870         1620      6000     1.0           0     0  ...      7   \n",
       "\n",
       "       sqft_above  sqft_basement  yr_built  yr_renovated  zipcode      lat  \\\n",
       "15870        1040            580      1947             0    98103  47.6878   \n",
       "\n",
       "          long  sqft_living15  sqft_lot15  \n",
       "15870 -122.331           1330        4700  \n",
       "\n",
       "[1 rows x 21 columns]"
      ]
     },
     "metadata": {},
     "output_type": "display_data"
    }
   ],
   "source": [
    "display(df.sort_values('bedrooms', ascending=False).head(1))"
   ]
  },
  {
   "cell_type": "markdown",
   "id": "f84b4fab",
   "metadata": {},
   "source": [
    "Podemos notar que, neste dataset, a casa que possui o **maior número de quartos não necessariamente possui o maior preço**!"
   ]
  },
  {
   "cell_type": "markdown",
   "id": "582df76c",
   "metadata": {},
   "source": [
    "### 6. Qual a soma total de quartos do conjunto de dados?"
   ]
  },
  {
   "cell_type": "code",
   "execution_count": 15,
   "id": "68f60c80",
   "metadata": {},
   "outputs": [
    {
     "name": "stdout",
     "output_type": "stream",
     "text": [
      "A soma total de quartos neste conjunto é de 72854.\n"
     ]
    }
   ],
   "source": [
    "print(f\"A soma total de quartos neste conjunto é de {df['bedrooms'].sum()}.\")"
   ]
  },
  {
   "cell_type": "markdown",
   "id": "58b99544",
   "metadata": {},
   "source": [
    "Mas qual seria o verdadeiro propósito de saber isso? Uma utilidade que pensei, foi descobrir o valor **médio** e **mediano** do número de quartos, e desse modo, podemos ter uma noção geral desta variável, resumindo como uma medida de tendência central."
   ]
  },
  {
   "cell_type": "code",
   "execution_count": 16,
   "id": "7ffc58b4",
   "metadata": {},
   "outputs": [
    {
     "name": "stdout",
     "output_type": "stream",
     "text": [
      "Média de quartos por casa: 3.37084162309721\n",
      "Mediana de quartos por casa: 3.0\n"
     ]
    }
   ],
   "source": [
    "print(f\"Média de quartos por casa: {df['bedrooms'].mean()}\")\n",
    "print(f\"Mediana de quartos por casa: {df['bedrooms'].median()}\")"
   ]
  },
  {
   "cell_type": "markdown",
   "id": "59d5e999",
   "metadata": {},
   "source": [
    "Como podemos ver acima, os valores centrais estão bem distantes da casa que possui o maior número de casas, esta sendo **11 vezes a média e a mediana**, aproximadamente."
   ]
  },
  {
   "cell_type": "markdown",
   "id": "b80b29f0",
   "metadata": {},
   "source": [
    "### 7. Quantas casas possuem 2 banheiros?"
   ]
  },
  {
   "cell_type": "code",
   "execution_count": 17,
   "id": "fdfe65a8",
   "metadata": {},
   "outputs": [
    {
     "name": "stdout",
     "output_type": "stream",
     "text": [
      "Existem 1930 casas com 2 banheiros neste conjunto de dados.\n",
      "Isso representa 8.93% em relação ao total de linhas!\n"
     ]
    }
   ],
   "source": [
    "houses_with_2_bathrooms = df.query('bathrooms == 2')\n",
    "print(f\"Existem {len(houses_with_2_bathrooms)} casas com 2 banheiros neste conjunto de dados.\")\n",
    "print(f\"Isso representa {round(len(houses_with_2_bathrooms) / len(df) * 100, 2)}% em relação ao total de linhas!\")"
   ]
  },
  {
   "cell_type": "markdown",
   "id": "2aa62363",
   "metadata": {},
   "source": [
    "### 8. Qual o preço médio de todas as casas no conjunto de dados?"
   ]
  },
  {
   "cell_type": "code",
   "execution_count": 18,
   "id": "2742b8ee",
   "metadata": {},
   "outputs": [
    {
     "name": "stdout",
     "output_type": "stream",
     "text": [
      "O preço médio de todas as casas no dataframe é de $540088.14.\n"
     ]
    }
   ],
   "source": [
    "print(f\"O preço médio de todas as casas no dataframe é de ${round(df['price'].mean(), 2)}.\")"
   ]
  },
  {
   "cell_type": "markdown",
   "id": "c7faa0d1",
   "metadata": {},
   "source": [
    "### 9. Qual o preço médio de casas com 2 banheiros?"
   ]
  },
  {
   "cell_type": "code",
   "execution_count": 19,
   "id": "986a124c",
   "metadata": {},
   "outputs": [
    {
     "name": "stdout",
     "output_type": "stream",
     "text": [
      "O preço médio das casas com 2 banheiros no dataframe é de $457889.72.\n"
     ]
    }
   ],
   "source": [
    "print(f\"O preço médio das casas com 2 banheiros no dataframe é de ${round(houses_with_2_bathrooms['price'].mean(), 2)}.\")"
   ]
  },
  {
   "cell_type": "markdown",
   "id": "3aab98ac",
   "metadata": {},
   "source": [
    "Portanto possuem um **preço médio menor**, quando comparado com o total de casas."
   ]
  },
  {
   "cell_type": "markdown",
   "id": "3a8b9ca1",
   "metadata": {},
   "source": [
    "### 10. Qual o preço mínimo entre as casas com 3 quartos?"
   ]
  },
  {
   "cell_type": "code",
   "execution_count": 20,
   "id": "9f6fc75f",
   "metadata": {},
   "outputs": [
    {
     "name": "stdout",
     "output_type": "stream",
     "text": [
      "O preço mínimo entre as casas com 3 quartos é de $82000.0\n"
     ]
    }
   ],
   "source": [
    "houses_with_3_bedrooms = df.query('bedrooms == 3')\n",
    "print(f\"O preço mínimo entre as casas com 3 quartos é de ${min(houses_with_3_bedrooms['price'])}\")"
   ]
  },
  {
   "cell_type": "markdown",
   "id": "b2bb1fd2",
   "metadata": {},
   "source": [
    "### 11. Quantas casas possuem mais de 300 metros quadrados na sala de estar?"
   ]
  },
  {
   "cell_type": "code",
   "execution_count": 21,
   "id": "91c4447b",
   "metadata": {},
   "outputs": [
    {
     "name": "stdout",
     "output_type": "stream",
     "text": [
      "Existem 21612 casas, neste dataframe, com mais de 300 metros quadrados na sala de estar.\n",
      "Uma porcentagem de 99.995% em relação ao total de casas que possuem mais de 300 metros quadrados. Ou seja, quase todas.\n"
     ]
    }
   ],
   "source": [
    "# sqrt_living é a variável que indica a resposta para a pergunta\n",
    "houses_with_more_than_300m2_livingroom = df.query('sqft_living > 300')\n",
    "print(f\"Existem {len(houses_with_more_than_300m2_livingroom)} casas, neste dataframe, com mais de 300 metros quadrados na sala de estar.\")\n",
    "print(f\"Uma porcentagem de {round(len(houses_with_more_than_300m2_livingroom) / len(df) * 100, 3)}% em relação ao total de casas que possuem mais de 300 metros quadrados. Ou seja, quase todas.\")"
   ]
  },
  {
   "cell_type": "markdown",
   "id": "d903de34",
   "metadata": {},
   "source": [
    "### 12. Quantas casas tem mais de 2 andares?"
   ]
  },
  {
   "cell_type": "code",
   "execution_count": 22,
   "id": "4b21097c",
   "metadata": {},
   "outputs": [
    {
     "name": "stdout",
     "output_type": "stream",
     "text": [
      "Existem 782 casas com mais de 2 andares.\n",
      "Uma porcentagem de 3.62% em relação ao total de casas no conjunto.\n"
     ]
    }
   ],
   "source": [
    "print(f\"Existem {len(df.query('floors > 2'))} casas com mais de 2 andares.\")\n",
    "print(f\"Uma porcentagem de {round(len(df.query('floors > 2'))/len(df)*100, 2)}% em relação ao total de casas no conjunto.\")"
   ]
  },
  {
   "cell_type": "markdown",
   "id": "8c7b71c8",
   "metadata": {},
   "source": [
    "### 13. Quantas casas tem vista para o mar?"
   ]
  },
  {
   "cell_type": "code",
   "execution_count": 23,
   "id": "d6744d64",
   "metadata": {},
   "outputs": [
    {
     "name": "stdout",
     "output_type": "stream",
     "text": [
      "Existem 163 casas com vista para o mar.\n",
      "Uma porcentagem de 0.75% em relação ao total de casas no conjunto.\n"
     ]
    }
   ],
   "source": [
    "df_with_waterfront = df.query('waterfront == 1')\n",
    "print(f\"Existem {len(df_with_waterfront)} casas com vista para o mar.\")\n",
    "print(f\"Uma porcentagem de {round(len(df_with_waterfront)/len(df)*100, 2)}% em relação ao total de casas no conjunto.\")"
   ]
  },
  {
   "cell_type": "markdown",
   "id": "8616ede8",
   "metadata": {},
   "source": [
    "### 14. Das casas com vista para o mar, quantas tem 3 quartos?"
   ]
  },
  {
   "cell_type": "code",
   "execution_count": 24,
   "id": "8aaee887",
   "metadata": {},
   "outputs": [
    {
     "name": "stdout",
     "output_type": "stream",
     "text": [
      "Existem 64 casas com 3 quartos e vista para o mar.\n",
      "Ou seja, 0.3% em relação ao total de casas.\n"
     ]
    }
   ],
   "source": [
    "print(f\"Existem {len(df_with_waterfront.query('bedrooms == 3'))} casas com 3 quartos e vista para o mar.\")\n",
    "print(f\"Ou seja, {round(len(df_with_waterfront.query('bedrooms == 3'))/len(df)*100, 2)}% em relação ao total de casas.\")"
   ]
  },
  {
   "cell_type": "markdown",
   "id": "6121e9d2",
   "metadata": {},
   "source": [
    "### 15. Das casas com mais de 300 metros quadrados de sala de estar, quantas tem mais de 2 banheiros?"
   ]
  },
  {
   "cell_type": "code",
   "execution_count": 25,
   "id": "29f79175",
   "metadata": {},
   "outputs": [
    {
     "name": "stdout",
     "output_type": "stream",
     "text": [
      "Existem 11242 casas com mais de 300 metros quadrados de sala de estar e mais de 2 banheiros.\n",
      "Representando, assim, 52.01% do total de casas no dataset.\n"
     ]
    }
   ],
   "source": [
    "wanted_houses = houses_with_more_than_300m2_livingroom.query('bathrooms > 2')\n",
    "print(f\"Existem {len(wanted_houses)} casas com mais de 300 metros quadrados de sala de estar e mais de 2 banheiros.\")\n",
    "print(f\"Representando, assim, {round(len(wanted_houses)/len(df)*100, 2)}% do total de casas no dataset.\")"
   ]
  }
 ],
 "metadata": {
  "kernelspec": {
   "display_name": "Python 3",
   "language": "python",
   "name": "python3"
  },
  "language_info": {
   "codemirror_mode": {
    "name": "ipython",
    "version": 3
   },
   "file_extension": ".py",
   "mimetype": "text/x-python",
   "name": "python",
   "nbconvert_exporter": "python",
   "pygments_lexer": "ipython3",
   "version": "3.8.8"
  }
 },
 "nbformat": 4,
 "nbformat_minor": 5
}
